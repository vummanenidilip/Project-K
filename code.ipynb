{
 "cells": [
  {
   "cell_type": "code",
   "execution_count": 821,
   "id": "bd1537f8",
   "metadata": {},
   "outputs": [
    {
     "name": "stderr",
     "output_type": "stream",
     "text": [
      "python-dotenv could not parse statement starting at line 6\n"
     ]
    },
    {
     "data": {
      "text/plain": [
       "True"
      ]
     },
     "execution_count": 821,
     "metadata": {},
     "output_type": "execute_result"
    }
   ],
   "source": [
    "import pypdf\n",
    "import os \n",
    "from dotenv import load_dotenv\n",
    "load_dotenv()"
   ]
  },
  {
   "cell_type": "code",
   "execution_count": null,
   "id": "09371064",
   "metadata": {},
   "outputs": [],
   "source": [
    "\n",
    "os.environ[\"OPENAI_API_KEY\"]= os.getenv(\"OPENAI_API_KEY\")"
   ]
  },
  {
   "cell_type": "markdown",
   "id": "1871650f",
   "metadata": {},
   "source": [
    "INPUT "
   ]
  },
  {
   "cell_type": "code",
   "execution_count": 823,
   "id": "b14d27d2",
   "metadata": {},
   "outputs": [],
   "source": [
    "def resume(pdf_path: str) -> str:\n",
    "    with open(pdf_path, \"rb\") as file:\n",
    "        reader = pypdf.PdfReader(file)\n",
    "        resume_text = \"\"\n",
    "        for page in reader.pages:\n",
    "            resume_text += page.extract_text() + \"\\n\"\n",
    "    return resume_text"
   ]
  },
  {
   "cell_type": "code",
   "execution_count": 824,
   "id": "6d833f11",
   "metadata": {},
   "outputs": [],
   "source": [
    "def jd(jd_pdf_path: str) -> str:\n",
    "    with open(jd_pdf_path, \"rb\") as file:\n",
    "        reader = pypdf.PdfReader(file)\n",
    "        jd_text = \"\"\n",
    "        for page in reader.pages:\n",
    "            jd_text += page.extract_text() + \"\\n\"\n",
    "    return jd_text"
   ]
  },
  {
   "cell_type": "code",
   "execution_count": 825,
   "id": "dd74e8a2",
   "metadata": {},
   "outputs": [],
   "source": [
    "def extract_resume_summary(pdf_path: str) -> str:\n",
    "    resume_text = resume(pdf_path)\n",
    "    return resume_text[:5000]"
   ]
  },
  {
   "cell_type": "code",
   "execution_count": 826,
   "id": "16091a35",
   "metadata": {},
   "outputs": [],
   "source": [
    "from langchain_core.tools import tool\n",
    "\n"
   ]
  },
  {
   "cell_type": "code",
   "execution_count": 827,
   "id": "b300adb2",
   "metadata": {},
   "outputs": [],
   "source": [
    "resume_pdf_path = \"C:\\\\Users\\\\itsme\\\\OneDrive\\\\Desktop\\\\OPT\\\\DilipVummaneni.pdf\"\n",
    "resume_summary = extract_resume_summary(resume_pdf_path)"
   ]
  },
  {
   "cell_type": "code",
   "execution_count": 828,
   "id": "1143fa30",
   "metadata": {},
   "outputs": [
    {
     "name": "stdout",
     "output_type": "stream",
     "text": [
      "Dilip Vummaneni                                                   \n",
      "Senior AI/ML Engineer                                                                                               \n",
      "Email: vummanenidilip@gmail.com  \n",
      "Mobile: 940-843-0998 \n",
      "LinkedIn                                                                                                                   \n",
      "Professional Summary \n",
      "• 5+ Years of Experience in Data Analytics, Machine Learning (ML), Predictive Modeling, Natural Language Processing \n",
      "(NLP), Deep Learning, and Generative AI, delivering innovative AI-driven solutions.   \n",
      "• Expert in Data Preprocessing and Analysis, including Data Cleaning, Exploratory Data Analysis (EDA), and Initial Data \n",
      "Analysis (IDA), ensuring high data quality and actionable insights.   \n",
      "• Comprehensive Knowledge of the Data Science Lifecycle, from Data Acquisition and Engineering to Preprocessing , \n",
      "Feature Engineering, Statistical Modeling, A/B Testing, and Data Visualization.   \n",
      "• Proficient in Machine Learning Techniques, including Ensemble Methods (Random Forests), Regression \n",
      "(Linear/Logistic), SVMs, XGBoost, Decision Trees, Neural Networks, K-Means, KNN, and Naive Bayes.   \n",
      "• Extensive Deep Learning Expertise, focusing on Recurrent Neural Networks (RNNs) and deploying diverse machine \n",
      "learning models for impactful business outcomes.   \n",
      "• Strong Analytical Skills, with experience in Regression, Clustering, PCA, Classification , and Data Visualization to \n",
      "support data-driven decision-making.   \n",
      "• Database Optimization Expertise in SQL, Azure Synapse Analytics, Azure Blob Storage , and MySQL,  enhancing \n",
      "database performance and query efficiency.   \n",
      "• Technical Proficiency in Tools such as Python, SQL, Tableau, Scikit -Learn, Spark, and Hive , delivering robust and \n",
      "scalable AI/ML solutions.   \n",
      "• Cloud Data Engineering Skills, including Azure Data Factory, ETL pipelines, and handling semi-structured/unstructured \n",
      "data using modern tools.   \n",
      "• AWS Expertise, including Amazon SageMaker, Redshift, and S3, supporting end-to-end machine learning workflows.   \n",
      "• Advanced NLP Techniques, with expertise in tokenization, lemmatization, stemming, POS tagging , and sentiment \n",
      "analysis using Python to extract insights from text.   \n",
      "• Data Visualization Mastery using Power BI, Tableau, and Spotfire to craft intuitive dashboards and drive actionable \n",
      "business intelligence.   \n",
      "• Strong Statistical Foundation, including Hypothesis Testing, ANOVA, Multivariate Statistics, Time -Series Analysis, \n",
      "and Classification for in-depth data analysis.   \n",
      "• Experience with Databases such as Azure Cosmos DB, MongoDB, PostgreSQL, MySQL, Amazon Aurora, RDS,  and \n",
      "DynamoDB for diverse application needs.   \n",
      "• Familiarity with Project Management Methodologies such as Agile, Scrum, and Waterfall, ensuring smooth project \n",
      "execution and delivery.   \n",
      "• Cloud Infrastructure Proficiency , using Terraform, Ansible,  and Boto3 to manage Infrastructure as Code (IaC ) \n",
      "effectively.   \n",
      "• Microservices Architecture Expertise, leveraging Docker and Kubernetes to build scalable, reliable applications.   \n",
      "• Web Development Skills  with frameworks like Flask and Django to create functional and user -friendly web \n",
      "applications.   \n",
      "• CI/CD Automation Knowledge with Jenkins, streamlining integration and deployment processes for fast and reliable \n",
      "delivery.   \n",
      "• Specialization in Generative AI technologies , including GPT, BERT, LLM , and DALL-E, delivering state -of-the-art \n",
      "solutions across industries.   \n",
      "• System Design Expertise, with skills in conceptual data models, process/data flow diagrams, use case diagrams, and \n",
      "class/state diagrams.   \n",
      "• Machine Learning Pipeline Management  on AWS and Azure, ensuring seamless automation and scalability from \n",
      "data ingestion to deployment.   \n",
      "• Leadership and Mentorship Skills, fostering team development, guiding junior data scientists, and driving high-quality \n",
      "AI/ML deliverables.   \n",
      " \n",
      "Certifications: \n",
      "• Microsoft Certified: Power BI Data Analyst Associate  \n",
      "• Oracle Database Foundations Certified Junior Associate \n",
      "• Oracle Cloud Infrastructure 2024 Generative AI Certified Professional   \n",
      "• Generative AI Fundamentals - Databricks  \n",
      " \n",
      " \n",
      " \n",
      "\n",
      "Professional Experience: \n",
      "Elysium Analytics                                                                                                                                                         07/2023 - Current \n",
      "Senior AI/ML Engineer \n",
      "Project: Financial Document Analysis Using Gen AI \n",
      "Description: An advanced AI-powered platform was developed to automate the analysis of financial documents, real-time \n",
      "market data, and sentiment insights. The platform integrated cutting -edge Large Language Models (LLMs) with NLP \n",
      "technologies, enabling the extraction o f actionable insights at scale and facilitating more informed financial decision -\n",
      "making. By optimizing the processing and analysis of unstructured financial data, the platform significantly enhanced the \n",
      "speed and accuracy of market forecas\n"
     ]
    }
   ],
   "source": [
    "print(resume_summary)"
   ]
  },
  {
   "cell_type": "code",
   "execution_count": 829,
   "id": "5b8657b0",
   "metadata": {},
   "outputs": [
    {
     "name": "stdout",
     "output_type": "stream",
     "text": [
      "Job Details \n",
      "Role: Data Science/ML Engineer \n",
      "Location: San Jose, CA (Onsite) \n",
      "Duration: Fulltime Permanent \n",
      "JOB DESCRIPTION: \n",
      "• Masters degree/PhD in Computer Science & Data Science/AI ML or a related technical field \n",
      "or equivalent practical experience. \n",
      "• 2 years of work or educational experience in Machine Learning or Artificial Intelligence \n",
      "• Experience with one or more additional general purpose programming languages including \n",
      "but not limited to: Java (ideal), Go, or C/C++ \n",
      "SKILLS REQUIRED: \n",
      "• Neural networks, CNN, RNN/LSTM \n",
      "• LLMs and generative AI, including prompt engineering \n",
      "• Python, ML, Statistics \n",
      "• Machine Learning \n",
      "PREREQUISITES PYTHON SKILLS: \n",
      "• Python installation, environment setup and Jupyter Notebook \n",
      "• Object and Data Structures basics \n",
      "• Comparison Operators and Statements \n",
      "• Methods and Functions \n",
      "• Errors and Exception handling \n",
      "• Built-in functions and Python Generators \n",
      "• Using scientific Python libraries numpy, pandas, matplotlib, scikit-learn \n",
      "• Use data visualization with Python \n",
      " \n",
      "\n"
     ]
    }
   ],
   "source": [
    "jd_pdf_path=\"C:\\\\Users\\\\itsme\\\\Downloads\\\\jd.pdf\"\n",
    "job_description = jd(jd_pdf_path)\n",
    "print(job_description)"
   ]
  },
  {
   "cell_type": "code",
   "execution_count": 830,
   "id": "b8bb1c28",
   "metadata": {},
   "outputs": [],
   "source": [
    "from langchain_core.tools import tool\n",
    "\n",
    "@tool\n",
    "def llm(resume_summary: str, job_description: str) -> str:\n",
    "    \"\"\" This tool takes a resume summary and a job description, extracts key skills, and determines if the resume matches the job requirements.\"\"\"\n",
    "    model = ChatOpenAI(model=\"gpt-4o\")\n",
    "\n",
    "    prompt = f\"\"\"\n",
    "As an expert Job Matching Assistant, your primary role is to meticulously evaluate candidate resumes against specific job descriptions.\n",
    "\n",
    "Your task involves two main phases:\n",
    "1.  **Skill Extraction**: Accurately identify and list all *key technical and relevant soft skills* present in the provided Candidate Resume Summary and Target Job Description.\n",
    "2.  **Compatibility Analysis**: Compare the extracted skills to determine the degree of alignment between the candidate's profile and the job requirements. Consider both explicit matches and transferable skills, and identify any notable gaps.\n",
    "\n",
    "Based on this comprehensive analysis, you must make a clear determination of the resume's suitability for the role and provide actionable insights.\n",
    "\n",
    "---\n",
    "**Candidate Resume Summary:**\n",
    "{resume_summary}\n",
    "\n",
    "**Target Job Description:**\n",
    "{job_description}\n",
    "---\n",
    "\n",
    "Your output *must strictly* adhere to the following JSON format:\n",
    "\n",
    "```json\n",
    "{{\n",
    "  \"extracted_resume_skills\": [\"List of key technical and soft skills identified from the Resume Summary\"],\n",
    "  \"extracted_jd_skills\": [\"List of key technical and required skills from the Job Description\"],\n",
    "  \"analysis\": [\"A list of specific key skills or areas from the Job Description that the resume either lacks or could strengthen. These are topics the candidate might need to prepare for an interview.\"],\n",
    "  \"match_result\": \"Your final determination of suitability: 'Suitable' or 'Not Suitable'\",\n",
    "  \"reason\": \"A concise explanation (2-3 sentences) justifying your 'match_result' based on skill alignment, gaps, or notable strengths.\"\n",
    "}}\n",
    "```\n",
    "\"\"\"\n",
    "\n",
    "    output = model.invoke(prompt)\n",
    "    return output.content"
   ]
  },
  {
   "cell_type": "code",
   "execution_count": 843,
   "id": "e1d60ad0",
   "metadata": {},
   "outputs": [],
   "source": [
    "@tool\n",
    "def guider(input: dict) -> str:\n",
    "    \"\"\"\n",
    "    Suggests important topics to revise based on LLM's analysis.\n",
    "    \"\"\"\n",
    "    analysis = input[\"llm_result\"]\n",
    "    model = ChatOpenAI(model=\"gpt-4o\")\n",
    "\n",
    "    prompt = f\"\"\"\n",
    "Here's an improved and more effective version of the prompt for your \"career coach\" (`guider`) tool:\n",
    "\n",
    "```\n",
    "As an expert and supportive Career Coach specializing in technical interview preparation, your role is to guide candidates based on their skill gaps.\n",
    "\n",
    "Given the following AI-generated skill gap analysis, which highlights areas from the job description that the candidate's resume may lack or could strengthen:\n",
    "\n",
    "---\n",
    "**Skill Gap Analysis:**\n",
    "{analysis}\n",
    "---\n",
    "\n",
    "Your task is to identify and recommend the **3 to 5 most critical technical topics** the candidate should intensively brush up on before attending their interview.\n",
    "\n",
    "For each recommended topic:\n",
    "* State the **specific technical area**.\n",
    "* Briefly explain its **relevance** based on the provided analysis.\n",
    "* Suggest a **practical, actionable way** to review or practice it (e.g., \"Review common data structures like trees and graphs,\" or \"Practice SQL queries focusing on JOINs and aggregations\").\n",
    "\n",
    "Ensure your advice is concise, highly practical, and empowering for the candidate, directly addressing the identified gaps to maximize their interview readiness.\n",
    "```\n",
    "\"\"\"\n",
    "\n",
    "    response = model.invoke(prompt)\n",
    "    return response.content"
   ]
  },
  {
   "cell_type": "code",
   "execution_count": 844,
   "id": "01a3f580",
   "metadata": {},
   "outputs": [
    {
     "name": "stdout",
     "output_type": "stream",
     "text": [
      "name='llm' description='This tool takes a resume summary and a job description, extracts key skills, and determines if the resume matches the job requirements.' args_schema=<class 'langchain_core.utils.pydantic.llm'> func=<function llm at 0x000001A6DCB67E20>\n"
     ]
    }
   ],
   "source": [
    "print(llm)"
   ]
  },
  {
   "cell_type": "code",
   "execution_count": 845,
   "id": "e8d92aae",
   "metadata": {},
   "outputs": [],
   "source": [
    "from langgraph.graph import Graph"
   ]
  },
  {
   "cell_type": "code",
   "execution_count": 846,
   "id": "7aaa7dcf",
   "metadata": {},
   "outputs": [],
   "source": [
    "workflow1 = Graph()\n"
   ]
  },
  {
   "cell_type": "code",
   "execution_count": 847,
   "id": "ffb2056b",
   "metadata": {},
   "outputs": [],
   "source": [
    "#workflow1.add_node(\"INPUT NODE\",input_node)"
   ]
  },
  {
   "cell_type": "code",
   "execution_count": 848,
   "id": "0068ce92",
   "metadata": {},
   "outputs": [
    {
     "data": {
      "text/plain": [
       "<langgraph.graph.graph.Graph at 0x1a6dc56a470>"
      ]
     },
     "execution_count": 848,
     "metadata": {},
     "output_type": "execute_result"
    }
   ],
   "source": [
    "workflow1.add_node(\"LLM NODE\", llm)"
   ]
  },
  {
   "cell_type": "code",
   "execution_count": 849,
   "id": "19fe641d",
   "metadata": {},
   "outputs": [
    {
     "data": {
      "text/plain": [
       "<langgraph.graph.graph.Graph at 0x1a6dc56a470>"
      ]
     },
     "execution_count": 849,
     "metadata": {},
     "output_type": "execute_result"
    }
   ],
   "source": [
    "workflow1.add_node(\"GUIDER\", guider)"
   ]
  },
  {
   "cell_type": "code",
   "execution_count": 850,
   "id": "841bc8d1",
   "metadata": {},
   "outputs": [],
   "source": [
    "from IPython.display import Image,display"
   ]
  },
  {
   "cell_type": "code",
   "execution_count": 851,
   "id": "85df07ac",
   "metadata": {},
   "outputs": [
    {
     "data": {
      "text/plain": [
       "<langgraph.graph.graph.Graph at 0x1a6dc56a470>"
      ]
     },
     "execution_count": 851,
     "metadata": {},
     "output_type": "execute_result"
    }
   ],
   "source": [
    "workflow1.set_entry_point(\"LLM NODE\")\n",
    "workflow1.add_edge(\"LLM NODE\", \"GUIDER\")\n",
    "workflow1.set_finish_point(\"GUIDER\")"
   ]
  },
  {
   "cell_type": "code",
   "execution_count": 852,
   "id": "84e53144",
   "metadata": {},
   "outputs": [],
   "source": [
    "app=workflow1.compile()"
   ]
  },
  {
   "cell_type": "code",
   "execution_count": 853,
   "id": "c05f6f8a",
   "metadata": {},
   "outputs": [
    {
     "data": {
      "image/png": "[encoded data removed]",
      "text/plain": [
       "<IPython.core.display.Image object>"
      ]
     },
     "metadata": {},
     "output_type": "display_data"
    }
   ],
   "source": [
    "display(Image(app.get_graph().draw_mermaid_png()))"
   ]
  },
  {
   "cell_type": "code",
   "execution_count": 854,
   "id": "36ab8d67",
   "metadata": {},
   "outputs": [
    {
     "name": "stdout",
     "output_type": "stream",
     "text": [
      "```json\n",
      "{\n",
      "  \"extracted_resume_skills\": [\n",
      "    \"Data Analytics\",\n",
      "    \"Machine Learning\",\n",
      "    \"Predictive Modeling\",\n",
      "    \"Natural Language Processing\",\n",
      "    \"Deep Learning\",\n",
      "    \"Generative AI\",\n",
      "    \"Data Preprocessing\",\n",
      "    \"Exploratory Data Analysis\",\n",
      "    \"Feature Engineering\",\n",
      "    \"Statistical Modeling\",\n",
      "    \"A/B Testing\",\n",
      "    \"Data Visualization\",\n",
      "    \"Ensemble Methods\",\n",
      "    \"Regression\",\n",
      "    \"SVM\",\n",
      "    \"XGBoost\",\n",
      "    \"Decision Trees\",\n",
      "    \"Neural Networks\",\n",
      "    \"Clustering\",\n",
      "    \"PCA\",\n",
      "    \"SQL\",\n",
      "    \"Azure Synapse Analytics\",\n",
      "    \"Azure Blob Storage\",\n",
      "    \"MySQL\",\n",
      "    \"Python\",\n",
      "    \"Scikit-Learn\",\n",
      "    \"Spark\",\n",
      "    \"Hive\",\n",
      "    \"Azure Data Factory\",\n",
      "    \"ETL pipelines\",\n",
      "    \"AWS\",\n",
      "    \"Amazon SageMaker\",\n",
      "    \"Amazon Redshift\",\n",
      "    \"Amazon S3\",\n",
      "    \"NLP\",\n",
      "    \"Power BI\",\n",
      "    \"Tableau\",\n",
      "    \"Spotfire\",\n",
      "    \"Hypothesis Testing\",\n",
      "    \"Time-Series Analysis\",\n",
      "    \"Databases\",\n",
      "    \"Project Management\",\n",
      "    \"Terraform\",\n",
      "    \"Ansible\",\n",
      "    \"Docker\",\n",
      "    \"Kubernetes\",\n",
      "    \"Flask\",\n",
      "    \"Django\",\n",
      "    \"CI/CD\",\n",
      "    \"Jenkins\",\n",
      "    \"GPT\",\n",
      "    \"BERT\",\n",
      "    \"LLM\",\n",
      "    \"DALL-E\",\n",
      "    \"Cloud Infrastructure\",\n",
      "    \"Leadership and Mentorship\"\n",
      "  ],\n",
      "  \"extracted_jd_skills\": [\n",
      "    \"Neural networks\",\n",
      "    \"CNN\",\n",
      "    \"RNN/LSTM\",\n",
      "    \"LLMs\",\n",
      "    \"Generative AI\",\n",
      "    \"Prompt engineering\",\n",
      "    \"Python\",\n",
      "    \"ML\",\n",
      "    \"Statistics\",\n",
      "    \"Python installation\",\n",
      "    \"Environment setup\",\n",
      "    \"Jupyter Notebook\",\n",
      "    \"Object and Data Structures\",\n",
      "    \"Comparison Operators\",\n",
      "    \"Statements\",\n",
      "    \"Methods and Functions\",\n",
      "    \"Errors and Exception handling\",\n",
      "    \"Built-in functions\",\n",
      "    \"Python Generators\",\n",
      "    \"Scientific Python libraries\",\n",
      "    \"Numpy\",\n",
      "    \"Pandas\",\n",
      "    \"Matplotlib\",\n",
      "    \"Scikit-learn\",\n",
      "    \"Data visualization with Python\"\n",
      "  ],\n",
      "  \"analysis\": [\n",
      "    \"The candidate lacks direct experience with Java, Go, or C/C++ as required by the job description.\",\n",
      "    \"No explicit mention of CNN or prompt engineering in the resume, which are specified in the job description.\",\n",
      "    \"While the candidate has extensive experience with Python, the resume does not explicitly mention Python environment setup or Jupyter Notebook usage, which might require confirmation or preparation for the interview.\"\n",
      "  ],\n",
      "  \"match_result\": \"Suitable\",\n",
      "  \"reason\": \"Dilip Vummaneni's resume showcases strong experience in Machine Learning, particularly in Neural Networks, RNNs, and LLMs, aligning well with the core requirements of the job. Though lacking some specific programming languages (Java, Go, C/C++), his strengths in Python and generative AI make him a strong candidate for the role.\"\n",
      "}\n",
      "```\n"
     ]
    }
   ],
   "source": [
    "input_data = {\n",
    "    \"resume_summary\": resume_summary,\n",
    "    \"job_description\": job_description\n",
    "}\n",
    "\n",
    "result = llm.invoke(input_data)\n",
    "print(result)"
   ]
  }
 ],
 "metadata": {
  "kernelspec": {
   "display_name": "Python 3",
   "language": "python",
   "name": "python3"
  },
  "language_info": {
   "codemirror_mode": {
    "name": "ipython",
    "version": 3
   },
   "file_extension": ".py",
   "mimetype": "text/x-python",
   "name": "python",
   "nbconvert_exporter": "python",
   "pygments_lexer": "ipython3",
   "version": "3.10.18"
  }
 },
 "nbformat": 4,
 "nbformat_minor": 5
}
